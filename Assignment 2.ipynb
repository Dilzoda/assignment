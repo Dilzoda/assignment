{
 "cells": [
  {
   "cell_type": "code",
   "execution_count": 1,
   "id": "1458f4ce",
   "metadata": {},
   "outputs": [
    {
     "name": "stdout",
     "output_type": "stream",
     "text": [
      "Hello, please, type your full name here: Dilzoda Alimova\n",
      "Welcome, Dilzoda Alimova. Here is your shopping list:\n",
      "Pen\n",
      "Pencil sharpener\n",
      "File folder\n",
      "Eraser\n",
      "Pencil case\n",
      "\t\n",
      "Here is the approximate price of the goods:\n",
      "Pen = $2\n",
      "Pencil sharpener = $4\n",
      "File folder = $6\n",
      "Eraser = $4\n",
      "Pencil case = $10\n",
      "\t\n",
      "The total price of the goods is approximately $26\n"
     ]
    }
   ],
   "source": [
    "print(\"Hello, please, type your full name here:\", end=' ')\n",
    "full_name = input()\n",
    "print(f\"Welcome, {full_name}. Here is your shopping list:\")\n",
    "shopping_list = \"Pen\\nPencil sharpener\\nFile folder\\nEraser\\nPencil case\"\n",
    "print(shopping_list)\n",
    "print(\"\\t\")\n",
    "print(\"Here is the approximate price of the goods:\")\n",
    "approximate_price = \"Pen = $2\\nPencil sharpener = $4\\nFile folder = $6\\nEraser = $4\\nPencil case = $10\"\n",
    "print(approximate_price)\n",
    "print(\"\\t\")\n",
    "total_price = 2 + 4 + 6 + 4 + 10\n",
    "print(f\"The total price of the goods is approximately ${total_price}\")"
   ]
  },
  {
   "cell_type": "code",
   "execution_count": 10,
   "id": "8427c3f9",
   "metadata": {},
   "outputs": [
    {
     "name": "stdout",
     "output_type": "stream",
     "text": [
      "Personal shopping list has been created. \n",
      "-Vegetables\n",
      "\t-Dairy products\n",
      "\t\t\t-Meat\n",
      "\n",
      "\n",
      "I want to buy \n",
      "\tVegetables \n",
      "\t\tfirst\n",
      "\n",
      "\n",
      "Then, I will buy \n",
      "\t\tMeat\n",
      "\n",
      "\n",
      "I will buy \n",
      "\tDairy products \n",
      "\t\tat the supermarket\n"
     ]
    }
   ],
   "source": [
    "print(\"{} has been created. \\n-{}\\n\\t-{}\\n\\t\\t\\t-{}\". format(\"Personal shopping list\", \"Vegetables\", \"Dairy products\", \"Meat\"))\n",
    "print(\"\\n\")\n",
    "print(\"I want to buy \\n\\t{1} \\n\\t\\tfirst\". format(\"Personal shopping list\", \"Vegetables\", \"Dairy products\", \"Meat\"))\n",
    "print(\"\\n\")\n",
    "print(\"Then, I will buy \\n\\t\\t{3}\". format(\"Personal shopping list\", \"Vegetables\", \"Dairy products\", \"Meat\"))\n",
    "print(\"\\n\")\n",
    "print(\"I will buy \\n\\t{2} \\n\\t\\tat the supermarket\". format(\"Personal shopping list\", \"Vegetables\", \"Dairy products\", \"Meat\"))"
   ]
  },
  {
   "cell_type": "code",
   "execution_count": 9,
   "id": "14a2f1a9",
   "metadata": {},
   "outputs": [
    {
     "name": "stdout",
     "output_type": "stream",
     "text": [
      "How many books you have purchased? 10\n",
      "How much did you pay for 10 books? $ 100\n",
      "So, you spend $10.0 for one book\n",
      "How much money do you have? $ 300\n",
      "So, you have enough money to buy another 30.0 books\n"
     ]
    }
   ],
   "source": [
    "print(\"How many books you have purchased?\", end=' ')\n",
    "books_purchased = input()\n",
    "print(f\"How much did you pay for {books_purchased} books?\", end=' ')\n",
    "total_price = input(\"$ \")\n",
    "price_of_the_each_book = int(total_price) / int(books_purchased)\n",
    "print(f\"So, you spend ${price_of_the_each_book} for one book\")\n",
    "print(\"How much money do you have?\", end=' ')\n",
    "money = input(\"$ \")\n",
    "books_you_can_buy = int(money) / int(price_of_the_each_book)\n",
    "print(f\"So, you have enough money to buy another {books_you_can_buy} books\")"
   ]
  },
  {
   "cell_type": "code",
   "execution_count": null,
   "id": "32a928f7",
   "metadata": {},
   "outputs": [],
   "source": []
  }
 ],
 "metadata": {
  "kernelspec": {
   "display_name": "Python 3",
   "language": "python",
   "name": "python3"
  },
  "language_info": {
   "codemirror_mode": {
    "name": "ipython",
    "version": 3
   },
   "file_extension": ".py",
   "mimetype": "text/x-python",
   "name": "python",
   "nbconvert_exporter": "python",
   "pygments_lexer": "ipython3",
   "version": "3.8.8"
  }
 },
 "nbformat": 4,
 "nbformat_minor": 5
}
